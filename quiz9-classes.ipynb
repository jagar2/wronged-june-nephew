{
 "cells": [
  {
   "cell_type": "code",
   "execution_count": null,
   "metadata": {
    "deletable": false,
    "editable": false,
    "tags": [
     "skip-execution"
    ]
   },
   "outputs": [],
   "source": [
    "# Initialize Otter\n",
    "import otter\n",
    "grader = otter.Notebook(\"quiz9-classes.ipynb\")"
   ]
  },
  {
   "attachments": {},
   "cell_type": "markdown",
   "metadata": {
    "editable": false
   },
   "source": [
    "# ⌛️ Quiz 9 - Classes\n",
    "\n",
    "This quiz will evaluate your mastery of using classes in Python. Functions provide a way to isolate code that you want to use repeatedly, and they allow you to pass in data to the code and get data back out of the code.\n"
   ]
  },
  {
   "cell_type": "markdown",
   "metadata": {
    "editable": false
   },
   "source": [
    "## Entering Your Information for Credit\n",
    "\n",
    "To receive credit for assignments it is important we can identify your work from others. To do this we will ask you to enter your information in the following code block.\n",
    "\n",
    "### Before you begin\n",
    "\n",
    "Run the block of code at the top of the notebook that imports and sets up the autograder. This will allow you to check your work. "
   ]
  },
  {
   "cell_type": "code",
   "execution_count": null,
   "metadata": {
    "tags": [
     "skip-execution"
    ]
   },
   "outputs": [],
   "source": [
    "import pkg_resources\n",
    "from subprocess import call\n",
    "import sys\n",
    "\n",
    "package_name = 'ENGR131_Util_2024'\n",
    "version = '0.1.11'\n",
    "package_version = f'{package_name}=={version}'\n",
    "\n",
    "try:\n",
    "    # Check if the package and version are installed\n",
    "    pkg_resources.require(package_version)\n",
    "    print(f'{package_version} is already installed.')\n",
    "except pkg_resources.DistributionNotFound:\n",
    "    # If not installed, install the package\n",
    "    print(f'{package_version} not found. Installing...')\n",
    "    call([sys.executable, '-m', 'pip', 'install', package_version])\n",
    "except pkg_resources.VersionConflict:\n",
    "    # If a different version is installed, you can choose to upgrade/downgrade\n",
    "    installed_packages = {dist.key: dist.version for dist in pkg_resources.working_set}\n",
    "    installed_version = installed_packages.get(package_name.lower())\n",
    "    print(f'{package_name} {installed_version} is installed, but {version} is required.')\n",
    "    # Optionally, upgrade or downgrade the package to the required version\n",
    "    call([sys.executable, '-m', 'pip', 'install', '--upgrade', package_version])"
   ]
  },
  {
   "cell_type": "code",
   "execution_count": null,
   "metadata": {
    "tags": [
     "skip-execution"
    ]
   },
   "outputs": [],
   "source": [
    "# DO NOT MODIFY THIS CELL\n",
    "\n",
    "from ENGR131_Util_2024 import cell_logger, StudentInfoForm, responses, upsert_to_json_file\n",
    "# Register the log function to be called before any cell is executed\n",
    "get_ipython().events.register('pre_run_cell', cell_logger)\n",
    "responses[\"assignment\"] = \"quiz_9\"\n",
    "\n",
    "StudentInfoForm(**responses)"
   ]
  },
  {
   "cell_type": "markdown",
   "metadata": {
    "deletable": false,
    "editable": false
   },
   "source": [
    "## Question: Beam Load Calculator\n",
    "\n",
    "### Background\n",
    "\n",
    "In architectural engineering, calculating the load a beam can support is crucial for ensuring the safety and integrity of a structure. The total load on a beam includes both the dead load (permanent or static load, e.g., the weight of the beam itself and permanent fixtures) and live load (temporary or dynamic load, e.g., weight of people, furniture, snow).\n",
    "\n",
    "### Objectives\n",
    "\n",
    "1. Implement a `Beam` class to model a structural beam in a building.\n",
    "2. Include methods within this class to calculate the dead load, live load, and total load the beam can support.\n",
    "3. Demonstrate the use of class initialization, basic math calculations, and functions calling other functions.\n",
    "\n",
    "### Class to Implement\n",
    "\n",
    "implement a class `Beam` with the following properties and methods:\n",
    "   - Methods:\n",
    "     - `__init__`: Initializes a new `Beam` instance with the properties.\n",
    "         - Properties:\n",
    "           - `length` (in meters)\n",
    "           - `width` (in meters)\n",
    "           - `depth` (in meters)\n",
    "           - `material_density` (in kg/m³, representing the density of the beam material)\n",
    "           - `live_load_per_m2` (in kg, representing the expected maximum live load per square meter)\n",
    "     - `volume`: Calculates and returns the volume of the beam.\n",
    "       - The volume of a rectangular prism (beam) is calculated as length x width x depth.\n",
    "     - `dead_load`: Calculates and returns the dead load of the beam based on its volume and material density.\n",
    "       - The dead load is the volume of the beam multiplied by its material density.\n",
    "     - `live_load`: Calculates and returns the total live load the beam can support, based on the beam's length and the specified live load per square meter.\n",
    "       - Live load is the beam's surface area (length x width) multiplied by the live load per square meter.\n",
    "     - `total_load`: Calculates and returns the total load the beam can support by summing its dead and live loads.\n",
    "       - the total load is the sum of the dead and live loads.\n",
    "     - `print_loads`: Prints the dead, live, and total loads of the beam in the following format:\n",
    "       - \"Dead Load: {dead_load} kg\\nLive Load: {live_load} kg\\nTotal Load: {total_load} kg\" where the values are extracted from the object rounded to 2 decimal places.\n",
    "       - Note: you must use a **single print command**, \\n is used to create a new line in the print statement.\n",
    "\n",
    "Instantiate a `Beam` object to the variable `beam` the following properties:\n",
    "\n",
    "   - Beam dimensions: 8m (length) x 0.5m (width) x 0.25m (depth)\n",
    "   - Material density: 2400 kg/m³ (concrete)\n",
    "   - Live load per square meter: 500 kg/m²\n"
   ]
  },
  {
   "cell_type": "code",
   "execution_count": null,
   "metadata": {
    "tags": [
     "skip-execution"
    ]
   },
   "outputs": [],
   "source": [
    "# Your Class for a Beam goes Here\n",
    "...\n",
    "\n",
    "# Instantiate a Beam object with the specified properties\n",
    "...\n",
    "\n",
    "# Print the dead, live, and total loads of the beam\n",
    "# you can uncomment this line for testing\n",
    "# beam.print_loads()"
   ]
  },
  {
   "cell_type": "code",
   "execution_count": null,
   "metadata": {
    "deletable": false,
    "editable": false,
    "tags": [
     "skip-execution"
    ]
   },
   "outputs": [],
   "source": [
    "grader.check(\"q1-beam-load\")"
   ]
  },
  {
   "cell_type": "markdown",
   "metadata": {
    "editable": false
   },
   "source": [
    "## Submitting Your Assignment\n",
    "\n",
    "To submit your assignment please use the following link the assignment on GitHub classroom.\n",
    "   \n",
    "Use this [link](https://classroom.github.com/a/Ok5XgX3N) add link to navigate to the assignment on GitHub classroom.\n",
    "\n",
    "If you need further instructions on submitting your assignment please look at Lab 1. \n",
    "\n",
    "## Viewing your score\n",
    "\n",
    "Each `.ipynb` file you have uploaded will have a file with the name of your file + `Grade_Report.md`. You can view this file by clicking on the file name. This will show you the results of the autograder. \n",
    "\n",
    "We have both public and hidden tests. You will be able to see the score of both tests, but not the specific details of why the test passed or failed. \n",
    "\n",
    "```{note}\n",
    "In python and particularly jupyter notebooks it is common that during testing you run cells in a different order, or run cells and modify them. This can cause there to be local variables needed for your solution that would not be recreated on running your code again from scratch. Your assignment will be graded based on running your code from scratch. This means before you submit your assignment you should restart the kernel and run all cells. You can do this by clicking `Kernel` and selecting `Restart and Run All`. If you code does not run as expected after restarting the kernel and running all cells it means you have an error in your code. \n",
    "```\n",
    "\n",
    "## Fin"
   ]
  },
  {
   "cell_type": "markdown",
   "metadata": {
    "editable": false
   },
   "source": []
  }
 ],
 "metadata": {
  "kernelspec": {
   "display_name": "Python 3",
   "language": "python",
   "name": "python3"
  },
  "language_info": {
   "codemirror_mode": {
    "name": "ipython",
    "version": 3
   },
   "file_extension": ".py",
   "mimetype": "text/x-python",
   "name": "python",
   "nbconvert_exporter": "python",
   "pygments_lexer": "ipython3",
   "version": "3.10.13"
  },
  "otter": {
   "OK_FORMAT": true,
   "tests": {
    "q1-beam-load": {
     "name": "q1-beam-load",
     "points": 42,
     "suites": [
      {
       "cases": [
        {
         "code": ">>> import drexel_jupyter_logger\n>>> from ENGR131_Util_2024 import submit_score\n>>> from unittest.mock import patch\n>>> import numpy as np\n>>> if 'drexel_email' not in responses:\n...     raise ValueError('Please fill out the student info form and run the test again')\n>>> points_ = [6, 4, 5, 4, 4, 4, 4, 6, 5]\n>>> for (i, point) in enumerate(points_):\n...     drexel_jupyter_logger.variable_logger_csv(f'0, {point}', f'q1_{i + 1}')\n>>> import json\n>>> student_data = {'first_name': responses['first_name'], 'last_name': responses['last_name'], 'drexel_id': responses['drexel_id'], 'drexel_email': responses['drexel_email']}\n>>> with open('student_data.json', 'w') as json_file:\n...     json.dump(student_data, json_file)\n>>> scorer = submit_score()\n>>> question_id = 'q1_1'\n>>> max_score = 6\n>>> score = 0\n>>> for method in ['__init__', 'volume', 'dead_load', 'live_load', 'total_load', 'print_loads']:\n...     if hasattr(Beam, method):\n...         score += 1\n>>> drexel_jupyter_logger.variable_logger_csv(f'{score}, {max_score}', question_id)\n>>> response = {'question_id': question_id, 'score': score, 'max_score': max_score, 'student_response': dir(Beam)}\n>>> scorer.add_response(response)\n>>> with patch('builtins.print') as mock_print:\n...     scorer.submit()\n>>> assert hasattr(Beam, '__init__'), '__init__ method is not implemented'\n>>> assert hasattr(Beam, 'volume'), 'volume method is not implemented'\n>>> assert hasattr(Beam, 'dead_load'), 'dead_load method is not implemented'\n>>> assert hasattr(Beam, 'live_load'), 'live_load method is not implemented'\n>>> assert hasattr(Beam, 'total_load'), 'total_load method is not implemented'\n>>> assert hasattr(Beam, 'print_loads'), 'print_loads method is not implemented'\n",
         "hidden": false,
         "locked": false,
         "points": 6,
         "success_message": "All methods are implemented correctly."
        },
        {
         "code": ">>> import drexel_jupyter_logger\n>>> from ENGR131_Util_2024 import submit_score\n>>> from unittest.mock import patch\n>>> scorer = submit_score()\n>>> question_id = 'q1_2'\n>>> max_score = 4\n>>> score = 0\n>>> if len(Beam.__init__.__code__.co_varnames) == 6:\n...     score += 4\n>>> drexel_jupyter_logger.variable_logger_csv(f'{score}, {max_score}', question_id)\n>>> response = {'question_id': question_id, 'score': score, 'max_score': max_score, 'student_response': dir(beam)}\n>>> scorer.add_response(response)\n>>> with patch('builtins.print') as mock_print:\n...     scorer.submit()\n>>> assert len(Beam.__init__.__code__.co_varnames) == 6, '__init__ method does not take the correct number of parameters'\n",
         "hidden": false,
         "locked": false,
         "points": 4,
         "success_message": "Init takes the correct number of parameters"
        },
        {
         "code": ">>> import drexel_jupyter_logger\n>>> from ENGR131_Util_2024 import submit_score\n>>> from unittest.mock import patch\n>>> import numpy as np\n>>> scorer = submit_score()\n>>> question_id = 'q1_3'\n>>> max_score = 5\n>>> score = 0\n>>> for method in ['length', 'width', 'depth', 'material_density', 'live_load_per_m2']:\n...     if hasattr(beam, method):\n...         score += 1\n>>> drexel_jupyter_logger.variable_logger_csv(f'{score}, {max_score}', question_id)\n>>> response = {'question_id': question_id, 'score': score, 'max_score': max_score, 'student_response': dir(beam)}\n>>> scorer.add_response(response)\n>>> with patch('builtins.print') as mock_print:\n...     scorer.submit()\n>>> assert hasattr(beam, 'length'), 'length attribute is not implemented'\n>>> assert hasattr(beam, 'width'), 'width attribute is not implemented'\n>>> assert hasattr(beam, 'depth'), 'depth attribute is not implemented'\n>>> assert hasattr(beam, 'material_density'), 'material_density attribute is not implemented'\n>>> assert hasattr(beam, 'live_load_per_m2'), 'live_load_per_m2 attribute is not implemented'\n",
         "hidden": false,
         "locked": false,
         "points": 5,
         "success_message": "All properties are implemented correctly."
        },
        {
         "code": ">>> import drexel_jupyter_logger\n>>> from ENGR131_Util_2024 import submit_score\n>>> from unittest.mock import patch\n>>> scorer = submit_score()\n>>> question_id = 'q1_4'\n>>> max_score = 4\n>>> score = 0\n>>> b1 = Beam(length=9, width=2, depth=3, material_density=2400, live_load_per_m2=400)\n>>> test = b1.volume() == 54\n>>> statement = 'volume method is not implemented correctly'\n>>> value = b1.volume()\n>>> if test:\n...     score += 4\n>>> drexel_jupyter_logger.variable_logger_csv(f'{score}, {max_score}', question_id)\n>>> response = {'question_id': question_id, 'score': score, 'max_score': max_score, 'student_response': value}\n>>> scorer.add_response(response)\n>>> with patch('builtins.print') as mock_print:\n...     scorer.submit()\n>>> assert test, statement\n",
         "hidden": false,
         "locked": false,
         "points": 4,
         "success_message": "volume method is implemented correctly."
        },
        {
         "code": ">>> import drexel_jupyter_logger\n>>> from ENGR131_Util_2024 import submit_score\n>>> from unittest.mock import patch\n>>> scorer = submit_score()\n>>> question_id = 'q1_5'\n>>> max_score = 4\n>>> score = 0\n>>> b1 = Beam(length=9, width=2, depth=3, material_density=2400, live_load_per_m2=400)\n>>> value = b1.dead_load()\n>>> test = b1.dead_load() == 129600\n>>> statement = 'dead load method is not implemented correctly'\n>>> if test:\n...     score += 4\n>>> drexel_jupyter_logger.variable_logger_csv(f'{score}, {max_score}', question_id)\n>>> response = {'question_id': question_id, 'score': score, 'max_score': max_score, 'student_response': value}\n>>> scorer.add_response(response)\n>>> with patch('builtins.print') as mock_print:\n...     scorer.submit()\n>>> assert test, statement\n",
         "hidden": false,
         "locked": false,
         "points": 4,
         "success_message": "dead load implemented correctly"
        },
        {
         "code": ">>> import drexel_jupyter_logger\n>>> from ENGR131_Util_2024 import submit_score\n>>> from unittest.mock import patch\n>>> scorer = submit_score()\n>>> question_id = 'q1_6'\n>>> max_score = 4\n>>> score = 0\n>>> b1 = Beam(length=9, width=2, depth=3, material_density=2400, live_load_per_m2=400)\n>>> value = b1.live_load()\n>>> test = b1.live_load() == 7200\n>>> statement = 'live load method is not implemented correctly'\n>>> if test:\n...     score += 4\n>>> drexel_jupyter_logger.variable_logger_csv(f'{score}, {max_score}', question_id)\n>>> response = {'question_id': question_id, 'score': score, 'max_score': max_score, 'student_response': value}\n>>> scorer.add_response(response)\n>>> with patch('builtins.print') as mock_print:\n...     scorer.submit()\n>>> assert test, statement\n",
         "hidden": false,
         "locked": false,
         "points": 4,
         "success_message": "dead load implemented correctly"
        },
        {
         "code": ">>> import drexel_jupyter_logger\n>>> from ENGR131_Util_2024 import submit_score\n>>> from unittest.mock import patch\n>>> scorer = submit_score()\n>>> question_id = 'q1_7'\n>>> max_score = 4\n>>> score = 0\n>>> b1 = Beam(length=9, width=2, depth=3, material_density=2400, live_load_per_m2=400)\n>>> value = b1.total_load()\n>>> test = b1.total_load() == 136800\n>>> statement = 'total load method is not implemented correctly'\n>>> if test:\n...     score += 4\n>>> drexel_jupyter_logger.variable_logger_csv(f'{score}, {max_score}', question_id)\n>>> response = {'question_id': question_id, 'score': score, 'max_score': max_score, 'student_response': value}\n>>> scorer.add_response(response)\n>>> with patch('builtins.print') as mock_print:\n...     scorer.submit()\n>>> assert test, statement\n",
         "hidden": false,
         "locked": false,
         "points": 4,
         "success_message": "dead load implemented correctly"
        },
        {
         "code": ">>> import drexel_jupyter_logger\n>>> from unittest.mock import patch\n>>> from ENGR131_Util_2024 import submit_score\n>>> scorer = submit_score()\n>>> question_id = 'q1_8'\n>>> max_score = 6\n>>> expected_message = 'Dead Load: 129600.00 kg\\nLive Load: 7200.00 kg\\nTotal Load: 136800.00 kg'\n>>> with patch('builtins.print') as mock_print:\n...     b1 = Beam(length=9, width=2, depth=3, material_density=2400, live_load_per_m2=400)\n...     b1.print_loads()\n...     mock_print.assert_called_once_with(expected_message)\n>>> if mock_print.call_args[0][0] == expected_message:\n...     score = 6\n...     drexel_jupyter_logger.variable_logger_csv(f'6, {max_score}', question_id)\n... else:\n...     score = 0\n>>> response = {'question_id': question_id, 'score': score, 'max_score': max_score, 'student_response': f'{mock_print.call_args[0][0]}'}\n>>> scorer.add_response(response)\n>>> with patch('builtins.print') as mock_print:\n...     scorer.submit()\n",
         "hidden": false,
         "locked": false,
         "points": 6,
         "success_message": "Input parameters is is correctly defined."
        },
        {
         "code": ">>> import drexel_jupyter_logger\n>>> from unittest.mock import patch\n>>> from ENGR131_Util_2024 import submit_score\n>>> import numpy as np\n>>> scorer = submit_score()\n>>> question_id = 'q1_9'\n>>> max_score = 5\n>>> score = 0\n>>> for (method, value) in zip(['length', 'width', 'depth', 'material_density', 'live_load_per_m2'], [8, 0.5, 0.25, 2400, 500]):\n...     if eval(f'beam.{method}') == value:\n...         score += 1\n>>> drexel_jupyter_logger.variable_logger_csv(f'{score}, {max_score}', question_id)\n>>> response = {'question_id': question_id, 'score': score, 'max_score': max_score, 'student_response': f'Length: {beam.length}, \\n                                Width: {beam.width}, \\n                                Depth: {beam.depth}, \\n                                Material Density: {beam.material_density}, \\n                                Live Load per m2: {beam.live_load_per_m2}\\n                                '}\n>>> scorer.add_response(response)\n>>> with patch('builtins.print') as mock_print:\n...     scorer.submit()\n>>> for (method, value) in zip(['length', 'width', 'depth', 'material_density', 'live_load_per_m2'], [8, 0.5, 0.25, 2400, 500]):\n...     assert eval(f'beam.{method}') == value\n",
         "hidden": false,
         "locked": false,
         "points": 5,
         "success_message": "Input parameters is is correctly defined."
        }
       ],
       "scored": true,
       "setup": "",
       "teardown": "",
       "type": "doctest"
      }
     ]
    }
   }
  },
  "varInspector": {
   "cols": {
    "lenName": 16,
    "lenType": 16,
    "lenVar": 40
   },
   "kernels_config": {
    "python": {
     "delete_cmd_postfix": "",
     "delete_cmd_prefix": "del ",
     "library": "var_list.py",
     "varRefreshCmd": "print(var_dic_list())"
    },
    "r": {
     "delete_cmd_postfix": ") ",
     "delete_cmd_prefix": "rm(",
     "library": "var_list.r",
     "varRefreshCmd": "cat(var_dic_list()) "
    }
   },
   "types_to_exclude": [
    "module",
    "function",
    "builtin_function_or_method",
    "instance",
    "_Feature"
   ],
   "window_display": false
  },
  "vscode": {
   "interpreter": {
    "hash": "31f2aee4e71d21fbe5cf8b01ff0e069b9275f58929596ceb00d14d90e3e16cd6"
   }
  }
 },
 "nbformat": 4,
 "nbformat_minor": 4
}
